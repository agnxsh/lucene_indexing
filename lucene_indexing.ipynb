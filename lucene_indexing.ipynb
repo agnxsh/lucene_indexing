{
  "nbformat": 4,
  "nbformat_minor": 0,
  "metadata": {
    "colab": {
      "provenance": [],
      "authorship_tag": "ABX9TyO9opi6egVi54ZSvd1BLf+6",
      "include_colab_link": true
    },
    "kernelspec": {
      "name": "python3",
      "display_name": "Python 3"
    },
    "language_info": {
      "name": "python"
    }
  },
  "cells": [
    {
      "cell_type": "markdown",
      "metadata": {
        "id": "view-in-github",
        "colab_type": "text"
      },
      "source": [
        "<a href=\"https://colab.research.google.com/github/agnxsh/lucene_indexing/blob/main/lucene_indexing.ipynb\" target=\"_parent\"><img src=\"https://colab.research.google.com/assets/colab-badge.svg\" alt=\"Open In Colab\"/></a>"
      ]
    },
    {
      "cell_type": "code",
      "execution_count": 3,
      "metadata": {
        "colab": {
          "base_uri": "https://localhost:8080/"
        },
        "id": "E4DsZ_iMuh-Y",
        "outputId": "e8161562-ec0a-4c98-e259-3323ded7dc59"
      },
      "outputs": [
        {
          "output_type": "stream",
          "name": "stdout",
          "text": [
            "Looking in indexes: https://pypi.org/simple, https://us-python.pkg.dev/colab-wheels/public/simple/\n",
            "Requirement already satisfied: lupyne in /usr/local/lib/python3.8/dist-packages (2.5)\n"
          ]
        }
      ],
      "source": [
        "!pip install lupyne"
      ]
    },
    {
      "cell_type": "markdown",
      "source": [
        "###Indexing in Lupyne"
      ],
      "metadata": {
        "id": "SHOFeH3nu3cs"
      }
    },
    {
      "cell_type": "code",
      "source": [],
      "metadata": {
        "id": "7Kt0SarwvXs1"
      },
      "execution_count": null,
      "outputs": []
    }
  ]
}